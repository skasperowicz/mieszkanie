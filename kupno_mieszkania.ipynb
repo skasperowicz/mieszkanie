{
 "cells": [
  {
   "cell_type": "markdown",
   "id": "3a6441a3-45b2-4ddf-b8a6-bd1b61e0e4b9",
   "metadata": {},
   "source": [
    "# obliczenie ceny mieszkania za 5 lat"
   ]
  },
  {
   "cell_type": "code",
   "execution_count": 1,
   "id": "898b6eda-25f0-475d-8a1d-9f37ec1b90d4",
   "metadata": {},
   "outputs": [
    {
     "name": "stdout",
     "output_type": "stream",
     "text": [
      "[120000.   120500.   121002.08 121506.26 122012.53 122520.92 123031.42\n",
      " 123544.06 124058.82 124575.73 125094.8  125616.03 126139.43 126665.01\n",
      " 127192.78 127722.75 128254.93 128789.32 129325.95 129864.8  130405.91\n",
      " 130949.26 131494.89 132042.78 132592.96 133145.43 133700.2  134257.29\n",
      " 134816.69 135378.43 135942.51 136508.93 137077.72 137648.88 138222.41\n",
      " 138798.34 139376.67 139957.4  140540.56 141126.15 141714.17 142304.65\n",
      " 142897.58 143492.99 144090.88 144691.26 145294.14 145899.53 146507.44\n",
      " 147117.89 147730.88 148346.43 148964.54 149585.22 150208.49 150834.36\n",
      " 151462.84 152093.93 152727.66 153364.02]\n",
      "Przybliżona cena mieszkania po 5 latach to 153364.02\n"
     ]
    }
   ],
   "source": [
    "import numpy as np\n",
    "\n",
    "freq = 12\n",
    "rate = 0.05\n",
    "years = 5\n",
    "pv1 = 120000\n",
    "\n",
    "rate /= freq  # konwersja stopy do okresu miesięcznego\n",
    "nper = years * freq  # liczba wszystkich okresów\n",
    "periods = np.arange(1,nper+1,dtype=int)\n",
    "np.set_printoptions(suppress=True)\n",
    "\n",
    "flat_price = np.zeros(nper)\n",
    "for i in flat_price: \n",
    "    y = list(flat_price).index(i)\n",
    "    if y > 0:\n",
    "        x = y-1\n",
    "        flat_price[y] = (i+flat_price[x]) * (1+rate)\n",
    "    else: \n",
    "        flat_price[y] = pv1\n",
    "flat_price = np.around(flat_price,2)\n",
    "print(flat_price)\n",
    "pv = flat_price[59]\n",
    "print(f\"Przybliżona cena mieszkania po 5 latach to {pv}\")"
   ]
  },
  {
   "cell_type": "markdown",
   "id": "355ca628-6c4e-4394-81b5-bd6570038794",
   "metadata": {},
   "source": [
    "# obliczenie kwot wpłacanych na lokatę"
   ]
  },
  {
   "cell_type": "raw",
   "id": "54538887-0be3-4df5-8f3c-b4c81689db11",
   "metadata": {},
   "source": [
    "obliczam jaką miesięczną kwotę (wkład własny + odsetki) należy wpłacić aby zrealizować cel w 5 lat"
   ]
  },
  {
   "cell_type": "code",
   "execution_count": 2,
   "id": "e51aeca7-1be5-4309-befe-b002e24c28ba",
   "metadata": {},
   "outputs": [
    {
     "name": "stdout",
     "output_type": "stream",
     "text": [
      "Miesięcznie powinno wpływać 2556.07 zł\n"
     ]
    }
   ],
   "source": [
    "principal_decreasing = np.around(np.zeros(nper)+(pv/nper),2)\n",
    "principal_decreasing[:10]\n",
    "print(f\"Miesięcznie powinno wpływać {principal_decreasing[0]} zł\")"
   ]
  },
  {
   "cell_type": "raw",
   "id": "26f8b1b9-c8bc-411b-be11-c72422251115",
   "metadata": {},
   "source": [
    "tworzę macierz zawierającą kwotę pozostałą do zebrania w każdym miesiącu"
   ]
  },
  {
   "cell_type": "code",
   "execution_count": 18,
   "id": "1143501c-5e4e-4869-bfea-781f6bde3403",
   "metadata": {},
   "outputs": [
    {
     "data": {
      "text/plain": [
       "array([150807.95, 148251.88, 145695.81, 143139.74, 140583.67, 138027.6 ,\n",
       "       135471.53, 132915.46, 130359.39, 127803.32, 125247.25, 122691.18,\n",
       "       120135.11, 117579.04, 115022.97, 112466.9 , 109910.83, 107354.76,\n",
       "       104798.69, 102242.62,  99686.55,  97130.48,  94574.41,  92018.34,\n",
       "        89462.27,  86906.2 ,  84350.13,  81794.06,  79237.99,  76681.92,\n",
       "        74125.85,  71569.78,  69013.71,  66457.64,  63901.57,  61345.5 ,\n",
       "        58789.43,  56233.36,  53677.29,  51121.22,  48565.15,  46009.08,\n",
       "        43453.01,  40896.94,  38340.87,  35784.8 ,  33228.73,  30672.66,\n",
       "        28116.59,  25560.52,  23004.45,  20448.38,  17892.31,  15336.24,\n",
       "        12780.17,  10224.1 ,   7668.03,   5111.96,   2555.89,     -0.18])"
      ]
     },
     "execution_count": 18,
     "metadata": {},
     "output_type": "execute_result"
    }
   ],
   "source": [
    "balance = np.zeros(nper) + pv\n",
    "balance_close = np.around(balance - np.cumsum(principal_decreasing),2)\n",
    "balance_close"
   ]
  },
  {
   "cell_type": "raw",
   "id": "d5b059bf-43d4-4980-9f5f-87b1c33b9fd3",
   "metadata": {},
   "source": [
    "obliczam odsetki, jakie uzyskam posiadając takie kwoty na lokacie"
   ]
  },
  {
   "cell_type": "code",
   "execution_count": 19,
   "id": "32256243-0fbc-4c13-978f-6a856611e264",
   "metadata": {},
   "outputs": [
    {
     "data": {
      "text/plain": [
       "array([1508.0795, 1482.5188, 1456.9581, 1431.3974, 1405.8367, 1380.276 ,\n",
       "       1354.7153, 1329.1546, 1303.5939, 1278.0332, 1252.4725, 1226.9118,\n",
       "       1201.3511, 1175.7904, 1150.2297, 1124.669 , 1099.1083, 1073.5476,\n",
       "       1047.9869, 1022.4262,  996.8655,  971.3048,  945.7441,  920.1834,\n",
       "        894.6227,  869.062 ,  843.5013,  817.9406,  792.3799,  766.8192,\n",
       "        741.2585,  715.6978,  690.1371,  664.5764,  639.0157,  613.455 ,\n",
       "        587.8943,  562.3336,  536.7729,  511.2122,  485.6515,  460.0908,\n",
       "        434.5301,  408.9694,  383.4087,  357.848 ,  332.2873,  306.7266,\n",
       "        281.1659,  255.6052,  230.0445,  204.4838,  178.9231,  153.3624,\n",
       "        127.8017,  102.241 ,   76.6803,   51.1196,   25.5589,   -0.0018])"
      ]
     },
     "execution_count": 19,
     "metadata": {},
     "output_type": "execute_result"
    }
   ],
   "source": [
    "rate = 0.12\n",
    "rate /= freq\n",
    "\n",
    "interest = (balance_close * (rate+1))-balance_close\n",
    "interest"
   ]
  },
  {
   "cell_type": "raw",
   "id": "d26dd54c-b3f6-448c-9fc7-689a8095aa71",
   "metadata": {},
   "source": [
    "odejmuję kwotę odsetek od stałego miesięcznego wpływu, otrzymując kwoty, jakie muszę miesięcznie wpłacić"
   ]
  },
  {
   "cell_type": "code",
   "execution_count": 20,
   "id": "cd5095ca-b8fe-40c3-bc07-0bb403391726",
   "metadata": {},
   "outputs": [
    {
     "data": {
      "text/plain": [
       "array([2556.0718, 2530.5111, 2504.9504, 2479.3897, 2453.829 , 2428.2683,\n",
       "       2402.7076, 2377.1469, 2351.5862, 2326.0255, 2300.4648, 2274.9041,\n",
       "       2249.3434, 2223.7827, 2198.222 , 2172.6613, 2147.1006, 2121.5399,\n",
       "       2095.9792, 2070.4185, 2044.8578, 2019.2971, 1993.7364, 1968.1757,\n",
       "       1942.615 , 1917.0543, 1891.4936, 1865.9329, 1840.3722, 1814.8115,\n",
       "       1789.2508, 1763.6901, 1738.1294, 1712.5687, 1687.008 , 1661.4473,\n",
       "       1635.8866, 1610.3259, 1584.7652, 1559.2045, 1533.6438, 1508.0831,\n",
       "       1482.5224, 1456.9617, 1431.401 , 1405.8403, 1380.2796, 1354.7189,\n",
       "       1329.1582, 1303.5975, 1278.0368, 1252.4761, 1226.9154, 1201.3547,\n",
       "       1175.794 , 1150.2333, 1124.6726, 1099.1119, 1073.5512, 1047.9905])"
      ]
     },
     "execution_count": 20,
     "metadata": {},
     "output_type": "execute_result"
    }
   ],
   "source": [
    "self_contribution = principal_decreasing - interest\n",
    "self_contribution = np.sort(self_contribution)[::-1]\n",
    "self_contribution"
   ]
  },
  {
   "cell_type": "markdown",
   "id": "7b12df97-5c7c-4c60-a6a2-47a28100a0e3",
   "metadata": {},
   "source": [
    "# sprawdzenie"
   ]
  },
  {
   "cell_type": "raw",
   "id": "b043228f-5778-47a8-bc2f-e40d4d9d43a5",
   "metadata": {},
   "source": [
    "za pomocą pętli sprawdzam, czy ostatnia otrzymana kwota będzie zgodna z założoną wartościa"
   ]
  },
  {
   "cell_type": "code",
   "execution_count": 21,
   "id": "51413fd4-f686-4005-9466-dfadc00bedfd",
   "metadata": {},
   "outputs": [
    {
     "name": "stdout",
     "output_type": "stream",
     "text": [
      "[  2581   5162   7743  10324  12905  15486  18067  20648  23229  25810\n",
      "  28391  30972  33553  36134  38715  41296  43877  46458  49039  51620\n",
      "  54201  56782  59363  61944  64525  67106  69687  72268  74849  77430\n",
      "  80011  82592  85173  87754  90335  92916  95497  98078 100659 103240\n",
      " 105821 108402 110983 113564 116145 118726 121307 123888 126469 129050\n",
      " 131631 134212 136793 139374 141955 144536 147117 149698 152279 154860]\n",
      "Kwota otrzymana w ten sposób na lokacie jest o 1495.98 większa od przewidywanej\n"
     ]
    }
   ],
   "source": [
    "check = np.arange(nper)\n",
    "for i in self_contribution: \n",
    "    y = list(self_contribution).index(i)\n",
    "    if y > 0:\n",
    "        x = y-1\n",
    "        check[y] = (i+check[x]) * (rate+1)\n",
    "    else: \n",
    "        check[y] = i * 1.01\n",
    "print(check)\n",
    "a = check[59] - pv\n",
    "print(f\"Kwota otrzymana w ten sposób na lokacie jest o {np.round(a,2)} większa od przewidywanej\")"
   ]
  },
  {
   "cell_type": "markdown",
   "id": "1bf1251d-12d7-4735-9eb4-144ae095d299",
   "metadata": {},
   "source": [
    "# wykres"
   ]
  },
  {
   "cell_type": "code",
   "execution_count": 22,
   "id": "7fc7a54c-89ff-486c-b2e2-6bbcad343afd",
   "metadata": {},
   "outputs": [
    {
     "data": {
      "text/plain": [
       "Text(0, 0.5, 'Wartość')"
      ]
     },
     "execution_count": 22,
     "metadata": {},
     "output_type": "execute_result"
    },
    {
     "data": {
      "image/png": "[encoded data removed]",
      "text/plain": [
       "<Figure size 640x480 with 1 Axes>"
      ]
     },
     "metadata": {},
     "output_type": "display_data"
    }
   ],
   "source": [
    "import matplotlib.pyplot as plt\n",
    "\n",
    "plt.plot(flat_price,label='mieszkania')\n",
    "plt.plot(check,label='lokaty')\n",
    "plt.plot(np.cumsum(self_contribution),label='wpłaty')\n",
    "plt.legend()\n",
    "plt.xlabel(\"Liczba okresów\")\n",
    "plt.ylabel(\"Wartość\")"
   ]
  },
  {
   "cell_type": "raw",
   "id": "3ac66a28-8d8c-4d7f-aa36-72a00b865581",
   "metadata": {},
   "source": []
  }
 ],
 "metadata": {
  "kernelspec": {
   "display_name": "Python 3 (ipykernel)",
   "language": "python",
   "name": "python3"
  },
  "language_info": {
   "codemirror_mode": {
    "name": "ipython",
    "version": 3
   },
   "file_extension": ".py",
   "mimetype": "text/x-python",
   "name": "python",
   "nbconvert_exporter": "python",
   "pygments_lexer": "ipython3",
   "version": "3.11.7"
  }
 },
 "nbformat": 4,
 "nbformat_minor": 5
}
